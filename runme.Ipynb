{
 "cells": [
  {
   "cell_type": "code",
   "execution_count": 8,
   "metadata": {},
   "outputs": [],
   "source": [
    "import threading\n",
    "import boto3\n",
    "import os\n",
    "import sys\n",
    "from boto3.s3.transfer import TransferConfig\n",
    "BUCKET_NAME = \"sftpdemo\"\n",
    "def multi_part_upload_with_s3():\n",
    "    # Multipart upload\n",
    "    config = TransferConfig(multipart_threshold=1024 * 25, max_concurrency=10,\n",
    "                            multipart_chunksize=1024 * 25, use_threads=True)\n",
    "    file_path = os.path.dirname(__file__) + '/PalSunday.pdf'\n",
    "    key_path = 'multipart_files/largefile.pdf'\n",
    "    s3.meta.client.upload_file(file_path, BUCKET_NAME, key_path,\n",
    "                            ExtraArgs={'ACL': 'public-read', 'ContentType': 'text/pdf'},\n",
    "                            Config=config,\n",
    "                            Callback=ProgressPercentage(file_path)\n",
    "                            )\n",
    "class ProgressPercentage(object):\n",
    "    def __init__(self, filename):\n",
    "        self._filename = filename\n",
    "        self._size = float(os.path.getsize(filename))\n",
    "        self._seen_so_far = 0\n",
    "        self._lock = threading.Lock()\n",
    "def __call__(self, bytes_amount):\n",
    "        # To simplify we'll assume this is hooked up\n",
    "        # to a single filename.\n",
    "        with self._lock:\n",
    "            self._seen_so_far += bytes_amount\n",
    "            percentage = (self._seen_so_far / self._size) * 100\n",
    "            sys.stdout.write(\n",
    "                \"\\r%s  %s / %s  (%.2f%%)\" % (\n",
    "                    self._filename, self._seen_so_far, self._size,\n",
    "                    percentage))\n",
    "            sys.stdout.flush()\n"
   ]
  }
 ],
 "metadata": {
  "kernelspec": {
   "display_name": ".venv",
   "language": "python",
   "name": "python3"
  },
  "language_info": {
   "codemirror_mode": {
    "name": "ipython",
    "version": 3
   },
   "file_extension": ".py",
   "mimetype": "text/x-python",
   "name": "python",
   "nbconvert_exporter": "python",
   "pygments_lexer": "ipython3",
   "version": "3.9.16"
  },
  "orig_nbformat": 4
 },
 "nbformat": 4,
 "nbformat_minor": 2
}
